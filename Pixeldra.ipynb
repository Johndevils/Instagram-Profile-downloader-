{
  "nbformat": 4,
  "nbformat_minor": 0,
  "metadata": {
    "colab": {
      "provenance": [],
      "authorship_tag": "ABX9TyMAOgyMZ8Is7FBwM//nZzkg",
      "include_colab_link": true
    },
    "kernelspec": {
      "name": "python3",
      "display_name": "Python 3"
    },
    "language_info": {
      "name": "python"
    }
  },
  "cells": [
    {
      "cell_type": "markdown",
      "metadata": {
        "id": "view-in-github",
        "colab_type": "text"
      },
      "source": [
        "<a href=\"https://colab.research.google.com/github/Johndevils/mail-validator/blob/main/Pixeldra.ipynb\" target=\"_parent\"><img src=\"https://colab.research.google.com/assets/colab-badge.svg\" alt=\"Open In Colab\"/></a>"
      ]
    },
    {
      "cell_type": "code",
      "execution_count": 17,
      "metadata": {
        "colab": {
          "base_uri": "https://localhost:8080/"
        },
        "id": "K5onqlGLRsv-",
        "outputId": "8a49fc07-dfb4-4f44-fc53-84c7d7d7b43d",
        "cellView": "form"
      },
      "outputs": [
        {
          "output_type": "stream",
          "name": "stdout",
          "text": [
            "Drive already mounted at /content/drive; to attempt to forcibly remount, call drive.mount(\"/content/drive\", force_remount=True).\n"
          ]
        }
      ],
      "source": [
        "# @markdown  <h1><b>Pixeldra  To Drive Uploader<b></b></p>\n",
        "\n",
        "# @markdown <font color=Green size=4><b>Mount Google Drive </b></font>\n",
        "from google.colab import drive\n",
        "drive.mount('/content/drive')"
      ]
    },
    {
      "cell_type": "code",
      "source": [
        "# @markdown <font color=Red size=4><b>Import necessary libraries</b>\n",
        "import requests\n",
        "import os\n",
        "from tqdm import tqdm"
      ],
      "metadata": {
        "id": "HryjsM-uR3x4",
        "cellView": "form"
      },
      "execution_count": 18,
      "outputs": []
    },
    {
      "cell_type": "code",
      "source": [
        "# @markdown <font color=Green size=4><b>Provide the PixelDrain file URL and target folder</b></font>\n",
        "pixeldrain_url = input(\"Enter the PixelDrain file URL: \")  # User inputs the file URL\n",
        "output_folder = \"/content/drive/My Drive/PixelDrainUploads/\"  # Change to your preferred folder path in Google Drive"
      ],
      "metadata": {
        "colab": {
          "base_uri": "https://localhost:8080/"
        },
        "cellView": "form",
        "id": "Sx2nsjIEZ5sC",
        "outputId": "6dc461c5-c8ce-42f5-b6c5-367b94e8eef2"
      },
      "execution_count": 20,
      "outputs": [
        {
          "name": "stdout",
          "output_type": "stream",
          "text": [
            "Enter the PixelDrain file URL: https://pixeldra.in/api/file/MRqoBUsE?download\n"
          ]
        }
      ]
    },
    {
      "cell_type": "code",
      "source": [
        "\n",
        "# @markdown <font color=Green size=4><b>Ensure the target folder exists</b></font>\n",
        "os.makedirs(output_folder, exist_ok=True)"
      ],
      "metadata": {
        "id": "BtYuRX_OSIBb",
        "cellView": "form"
      },
      "execution_count": 14,
      "outputs": []
    },
    {
      "cell_type": "code",
      "source": [
        "\n",
        "\n",
        "# @markdown <font color=Green size=4><b>Download the file</b></font>\n",
        "response = requests.get(pixeldrain_url, stream=True)\n",
        "\n",
        "if response.status_code == 200:\n",
        "    # Extract file name from headers or URL\n",
        "    file_name = response.headers.get('Content-Disposition', 'attachment; filename=\"downloaded_file\"').split('filename=')[-1].strip('\"')\n",
        "    output_path = os.path.join(output_folder, file_name)\n",
        "\n",
        "    # Get total file size for progress bar\n",
        "    total_size = int(response.headers.get('content-length', 0))\n",
        "\n",
        "    # Save the file with progress bar\n",
        "    with open(output_path, 'wb') as f, tqdm(\n",
        "        desc=\"Downloading\", total=total_size, unit=\"B\", unit_scale=True, unit_divisor=1024\n",
        "    ) as bar:\n",
        "        for chunk in response.iter_content(chunk_size=1024):\n",
        "            if chunk:\n",
        "                f.write(chunk)\n",
        "                bar.update(len(chunk))\n",
        "\n",
        "    print(f\"\\nFile downloaded successfully and saved to {output_path}\")\n",
        "else:\n",
        "    print(f\"Failed to download the file. Status code: {response.status_code}\")"
      ],
      "metadata": {
        "colab": {
          "base_uri": "https://localhost:8080/"
        },
        "cellView": "form",
        "id": "mkq6Tc_baDWW",
        "outputId": "f4dcfdd3-c661-4119-a3c0-e4c0e932ab29"
      },
      "execution_count": 15,
      "outputs": [
        {
          "output_type": "stream",
          "name": "stderr",
          "text": [
            "Downloading: 100%|██████████| 1.10G/1.10G [00:37<00:00, 31.7MB/s]\n"
          ]
        },
        {
          "output_type": "stream",
          "name": "stdout",
          "text": [
            "\n",
            "File downloaded successfully and saved to /content/drive/My Drive/PixelDrainUploads/Movies4u.Bid.Bagheera 2024 Dual Audio Hindi - Kannada Full Movie HD ESub 720p HEVC 10Bit.mkv\n"
          ]
        }
      ]
    }
  ]
}